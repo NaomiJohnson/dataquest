{
 "cells": [
  {
   "cell_type": "code",
   "execution_count": 1,
   "metadata": {
    "collapsed": false
   },
   "outputs": [
    {
     "name": "stdout",
     "output_type": "stream",
     "text": [
      "['', 'year', 'month', 'intent', 'police', 'sex', 'age', 'race', 'hispanic', 'place', 'education']\n",
      "[['1', '2012', '01', 'Suicide', '0', 'M', '34', 'Asian/Pacific Islander', '100', 'Home', '4'], ['2', '2012', '01', 'Suicide', '0', 'F', '21', 'White', '100', 'Street', '3'], ['3', '2012', '01', 'Suicide', '0', 'M', '60', 'White', '100', 'Other specified', '4'], ['4', '2012', '02', 'Suicide', '0', 'M', '64', 'White', '100', 'Home', '4'], ['5', '2012', '02', 'Suicide', '0', 'M', '31', 'White', '100', 'Other specified', '2']]\n"
     ]
    }
   ],
   "source": [
    "import csv\n",
    "\n",
    "f = open(\"guns.csv\", \"r\")\n",
    "data = list(csv.reader(f))\n",
    "\n",
    "headers = data[0]\n",
    "del data[0]\n",
    "\n",
    "print(headers)\n",
    "print(data[:5])"
   ]
  },
  {
   "cell_type": "code",
   "execution_count": 2,
   "metadata": {
    "collapsed": false
   },
   "outputs": [
    {
     "name": "stdout",
     "output_type": "stream",
     "text": [
      "[('2012', 33563), ('2013', 33636), ('2014', 33599)]\n"
     ]
    }
   ],
   "source": [
    "year_index = headers.index(\"year\")\n",
    "years = [row[year_index] for row in data]\n",
    "year_counts = {}\n",
    "\n",
    "for year in years:\n",
    "    if year in year_counts:\n",
    "        year_counts[year] += 1\n",
    "    else:\n",
    "        year_counts[year] = 1\n",
    "\n",
    "#print(year_counts)\n",
    "print(sorted(year_counts.items()))"
   ]
  },
  {
   "cell_type": "code",
   "execution_count": 3,
   "metadata": {
    "collapsed": false
   },
   "outputs": [
    {
     "name": "stdout",
     "output_type": "stream",
     "text": [
      "[(datetime.datetime(2012, 1, 1, 0, 0), 2758), (datetime.datetime(2012, 2, 1, 0, 0), 2357), (datetime.datetime(2012, 3, 1, 0, 0), 2743), (datetime.datetime(2012, 4, 1, 0, 0), 2795), (datetime.datetime(2012, 5, 1, 0, 0), 2999), (datetime.datetime(2012, 6, 1, 0, 0), 2826), (datetime.datetime(2012, 7, 1, 0, 0), 3026), (datetime.datetime(2012, 8, 1, 0, 0), 2954), (datetime.datetime(2012, 9, 1, 0, 0), 2852), (datetime.datetime(2012, 10, 1, 0, 0), 2733), (datetime.datetime(2012, 11, 1, 0, 0), 2729), (datetime.datetime(2012, 12, 1, 0, 0), 2791), (datetime.datetime(2013, 1, 1, 0, 0), 2864), (datetime.datetime(2013, 2, 1, 0, 0), 2375), (datetime.datetime(2013, 3, 1, 0, 0), 2862), (datetime.datetime(2013, 4, 1, 0, 0), 2798), (datetime.datetime(2013, 5, 1, 0, 0), 2806), (datetime.datetime(2013, 6, 1, 0, 0), 2920), (datetime.datetime(2013, 7, 1, 0, 0), 3079), (datetime.datetime(2013, 8, 1, 0, 0), 2859), (datetime.datetime(2013, 9, 1, 0, 0), 2742), (datetime.datetime(2013, 10, 1, 0, 0), 2808), (datetime.datetime(2013, 11, 1, 0, 0), 2758), (datetime.datetime(2013, 12, 1, 0, 0), 2765), (datetime.datetime(2014, 1, 1, 0, 0), 2651), (datetime.datetime(2014, 2, 1, 0, 0), 2361), (datetime.datetime(2014, 3, 1, 0, 0), 2684), (datetime.datetime(2014, 4, 1, 0, 0), 2862), (datetime.datetime(2014, 5, 1, 0, 0), 2864), (datetime.datetime(2014, 6, 1, 0, 0), 2931), (datetime.datetime(2014, 7, 1, 0, 0), 2884), (datetime.datetime(2014, 8, 1, 0, 0), 2970), (datetime.datetime(2014, 9, 1, 0, 0), 2914), (datetime.datetime(2014, 10, 1, 0, 0), 2865), (datetime.datetime(2014, 11, 1, 0, 0), 2756), (datetime.datetime(2014, 12, 1, 0, 0), 2857)]\n"
     ]
    }
   ],
   "source": [
    "import datetime\n",
    "\n",
    "dates = [datetime.datetime(year = int(row[1]), month = int(row[2]), day = 1) for row in data]\n",
    "date_counts = {}\n",
    "\n",
    "for row in dates:\n",
    "    if row in date_counts:\n",
    "        date_counts[row] +=1\n",
    "    else:\n",
    "        date_counts[row] = 1\n",
    "\n",
    "#print(date_counts)\n",
    "print(sorted(date_counts.items()))"
   ]
  },
  {
   "cell_type": "code",
   "execution_count": 4,
   "metadata": {
    "collapsed": false
   },
   "outputs": [
    {
     "name": "stdout",
     "output_type": "stream",
     "text": [
      "[('F', 14449), ('M', 86349)]\n"
     ]
    }
   ],
   "source": [
    "sex_index = headers.index(\"sex\")\n",
    "sex = [row[sex_index] for row in data]\n",
    "sex_counts = {}\n",
    "\n",
    "for i in sex:\n",
    "    if i in sex_counts:\n",
    "        sex_counts[i] += 1\n",
    "    else:\n",
    "        sex_counts[i] = 1\n",
    "\n",
    "#sex_counts\n",
    "print(sorted(sex_counts.items()))"
   ]
  },
  {
   "cell_type": "code",
   "execution_count": 5,
   "metadata": {
    "collapsed": false
   },
   "outputs": [
    {
     "name": "stdout",
     "output_type": "stream",
     "text": [
      "[('Asian/Pacific Islander', 1326), ('Black', 23296), ('Hispanic', 9022), ('Native American/Native Alaskan', 917), ('White', 66237)]\n"
     ]
    }
   ],
   "source": [
    "race_index = headers.index(\"race\")\n",
    "race = [row[race_index] for row in data]\n",
    "race_counts = {}\n",
    "\n",
    "for i in race:\n",
    "    if i in race_counts:\n",
    "        race_counts[i] += 1\n",
    "    else:\n",
    "        race_counts[i] = 1\n",
    "\n",
    "#race_counts\n",
    "print(sorted(race_counts.items()))"
   ]
  },
  {
   "cell_type": "code",
   "execution_count": 6,
   "metadata": {
    "collapsed": true
   },
   "outputs": [],
   "source": [
    "## NOTES ON LEARNINGS SO FAR\n",
    "# Year: There was not much change over the years\n",
    "# Month: It seems like there are more deaths in the summer months\n",
    "# Sex: Nearly x4 men have died from guns than women\n",
    "# Race: Native American/Native Alaskans have had the fewest deats.\n",
    "#       White people have had the most deaths, over double the next biggest - Black\n",
    "## FURTHER EXAMINATION\n",
    "# What happens in the summer months?\n",
    "# Any more info on why x4 more men die from guns?\n",
    "# What is happening in terms of race, for White and Black people?"
   ]
  },
  {
   "cell_type": "code",
   "execution_count": 7,
   "metadata": {
    "collapsed": false
   },
   "outputs": [
    {
     "data": {
      "text/plain": [
       "[['Id',\n",
       "  'Year',\n",
       "  'Id',\n",
       "  'Sex',\n",
       "  'Id',\n",
       "  'Hispanic Origin',\n",
       "  'Id',\n",
       "  'Id2',\n",
       "  'Geography',\n",
       "  'Total',\n",
       "  'Race Alone - White',\n",
       "  'Race Alone - Hispanic',\n",
       "  'Race Alone - Black or African American',\n",
       "  'Race Alone - American Indian and Alaska Native',\n",
       "  'Race Alone - Asian',\n",
       "  'Race Alone - Native Hawaiian and Other Pacific Islander',\n",
       "  'Two or More Races'],\n",
       " ['cen42010',\n",
       "  'April 1, 2010 Census',\n",
       "  'totsex',\n",
       "  'Both Sexes',\n",
       "  'tothisp',\n",
       "  'Total',\n",
       "  '0100000US',\n",
       "  '',\n",
       "  'United States',\n",
       "  '308745538',\n",
       "  '197318956',\n",
       "  '44618105',\n",
       "  '40250635',\n",
       "  '3739506',\n",
       "  '15159516',\n",
       "  '674625',\n",
       "  '6984195']]"
      ]
     },
     "execution_count": 7,
     "metadata": {},
     "output_type": "execute_result"
    }
   ],
   "source": [
    "import csv\n",
    "\n",
    "f = open(\"census.csv\", \"r\")\n",
    "census = list(csv.reader(f))\n",
    "\n",
    "census"
   ]
  },
  {
   "cell_type": "code",
   "execution_count": 8,
   "metadata": {
    "collapsed": false
   },
   "outputs": [
    {
     "data": {
      "text/plain": [
       "{'Asian/Pacific Islander': 8.374309664161762,\n",
       " 'Black': 57.8773477735196,\n",
       " 'Hispanic': 20.220491210910907,\n",
       " 'Native American/Native Alaskan': 24.521955573811088,\n",
       " 'White': 33.56849303419181}"
      ]
     },
     "execution_count": 8,
     "metadata": {},
     "output_type": "execute_result"
    }
   ],
   "source": [
    "mapping = {\n",
    "    \"Asian/Pacific Islander\": 15159516 + 674625,\n",
    "    \"Black\": 40250635,\n",
    "    \"Native American/Native Alaskan\": 3739506,\n",
    "    \"Hispanic\": 44618105,\n",
    "    \"White\": 197318956\n",
    "}\n",
    "\n",
    "race_per_hundredk = {}\n",
    "\n",
    "for race, counts in race_counts.items():\n",
    "    race_per_hundredk[race] = counts / mapping[race] * 100000\n",
    "\n",
    "race_per_hundredk"
   ]
  },
  {
   "cell_type": "code",
   "execution_count": 9,
   "metadata": {
    "collapsed": false
   },
   "outputs": [
    {
     "data": {
      "text/plain": [
       "{'Asian/Pacific Islander': 559,\n",
       " 'Black': 19510,\n",
       " 'Hispanic': 5634,\n",
       " 'Native American/Native Alaskan': 326,\n",
       " 'White': 9147}"
      ]
     },
     "execution_count": 9,
     "metadata": {},
     "output_type": "execute_result"
    }
   ],
   "source": [
    "intents = [row[3] for row in data]\n",
    "races = [row[7] for row in data]\n",
    "\n",
    "homicide_race_counts = {}\n",
    "\n",
    "for i, race in enumerate(races):\n",
    "    if race not in homicide_race_counts:\n",
    "        homicide_race_counts[race] = 0\n",
    "    if intents[i] == \"Homicide\":\n",
    "        homicide_race_counts[race] += 1\n",
    "\n",
    "race_per_hundredk = {}\n",
    "\n",
    "for race, counts in homicide_race_counts.items():\n",
    "    race_per_hundredk[race] = counts/ mapping[race] * 100000\n",
    "\n",
    "homicide_race_counts"
   ]
  },
  {
   "cell_type": "code",
   "execution_count": 10,
   "metadata": {
    "collapsed": true
   },
   "outputs": [],
   "source": [
    "## It appears that gun related homicides in the US disproportionately affect people in the Black and Hispanic racial categories.\n",
    "\n",
    "## Some areas to investigate further:\n",
    "\n",
    "# The link between month and homicide rate.\n",
    "# Homicide rate by gender.\n",
    "# The rates of other intents by gender and race.\n",
    "# Gun death rates by location and education."
   ]
  },
  {
   "cell_type": "code",
   "execution_count": 11,
   "metadata": {
    "collapsed": false
   },
   "outputs": [
    {
     "data": {
      "text/plain": [
       "{'01': 0.9162885456825615,\n",
       " '02': 0.7054352960398087,\n",
       " '03': 0.9004178709782682,\n",
       " '04': 0.9214708068104939,\n",
       " '05': 0.963900569795441,\n",
       " '06': 1.013779833151791,\n",
       " '07': 1.0588007267007045,\n",
       " '08': 1.0121603765493121,\n",
       " '09': 0.9606616565904832,\n",
       " '10': 0.9613094392314747,\n",
       " '11': 0.9454387645271817,\n",
       " '12': 1.0335372037020336}"
      ]
     },
     "execution_count": 11,
     "metadata": {},
     "output_type": "execute_result"
    }
   ],
   "source": [
    "intents = [row[3] for row in data]\n",
    "months = [row[2] for row in data]\n",
    "\n",
    "homicide_month_counts= {}\n",
    "for i, month in enumerate(months):\n",
    "    if month not in homicide_month_counts:\n",
    "        homicide_month_counts[month] = 0\n",
    "    if intents[i] == \"Homicide\":\n",
    "        homicide_month_counts[month] +=1\n",
    "\n",
    "month_per_hundredk = {}\n",
    "for month, counts in homicide_month_counts.items():\n",
    "    month_per_hundredk[month] = counts/ 308745538 * 100000\n",
    "    \n",
    "month_per_hundredk"
   ]
  },
  {
   "cell_type": "code",
   "execution_count": 12,
   "metadata": {
    "collapsed": false
   },
   "outputs": [
    {
     "data": {
      "text/plain": [
       "{'F': 1.7402680650238256, 'M': 9.652933024735729}"
      ]
     },
     "execution_count": 12,
     "metadata": {},
     "output_type": "execute_result"
    }
   ],
   "source": [
    "intents = [row[3] for row in data]\n",
    "genders = [row[5] for row in data]\n",
    "\n",
    "homicide_gender_counts= {}\n",
    "for i, gender in enumerate(genders):\n",
    "    if gender not in homicide_gender_counts:\n",
    "        homicide_gender_counts[gender] = 0\n",
    "    if intents[i] == \"Homicide\":\n",
    "        homicide_gender_counts[gender] +=1\n",
    "\n",
    "gender_per_hundredk = {}\n",
    "for gender, counts in homicide_gender_counts.items():\n",
    "    gender_per_hundredk[gender] = counts/ 308745538 * 100000\n",
    "    \n",
    "gender_per_hundredk"
   ]
  },
  {
   "cell_type": "code",
   "execution_count": 13,
   "metadata": {
    "collapsed": false
   },
   "outputs": [
    {
     "name": "stdout",
     "output_type": "stream",
     "text": [
      "{'Asian/Pacific Islander': 0.07578560782046845, 'Native American/Native Alaskan': 0.5883130017708221, 'Hispanic': 0.3249801846133985, 'White': 0.5736904466492313, 'Black': 0.814893976206835}\n",
      "{'F': 0.07060830786808002, 'M': 0.4602495664245033}\n"
     ]
    }
   ],
   "source": [
    "intents = [row[3] for row in data]\n",
    "races = [row[7] for row in data]\n",
    "genders = [row[5] for row in data]\n",
    "\n",
    "accidental_race_counts = {}\n",
    "\n",
    "for i, race in enumerate(races):\n",
    "    if race not in accidental_race_counts:\n",
    "        accidental_race_counts[race] = 0\n",
    "    if intents[i] == \"Accidental\":\n",
    "        accidental_race_counts[race] += 1\n",
    "\n",
    "race_per_hundredk = {}\n",
    "\n",
    "for race, counts in accidental_race_counts.items():\n",
    "    race_per_hundredk[race] = counts / mapping[race] * 100000\n",
    "\n",
    "accidental_race_counts= {}\n",
    "for i, gender in enumerate(genders):\n",
    "    if gender not in accidental_race_counts:\n",
    "        accidental_race_counts[gender] = 0\n",
    "    if intents[i] == \"Accidental\":\n",
    "        accidental_race_counts[gender] +=1\n",
    "\n",
    "gender_per_hundredk = {}\n",
    "for gender, counts in accidental_race_counts.items():\n",
    "    gender_per_hundredk[gender] = counts / 308745538 * 100000\n",
    "\n",
    "print(race_per_hundredk)\n",
    "print(gender_per_hundredk)"
   ]
  },
  {
   "cell_type": "code",
   "execution_count": 14,
   "metadata": {
    "collapsed": false
   },
   "outputs": [
    {
     "name": "stdout",
     "output_type": "stream",
     "text": [
      "{'Home': 19.590890411507743, 'NA': 0.4482655875661594, 'Other unspecified': 2.8719443388360806, 'Trade/service area': 1.1138622511849872, 'Sports': 0.041458089023459835, 'Farm': 0.15222892063301657, 'Industrial/construction': 0.08032504748295342, 'Other specified': 4.4538295481374695, 'Residential institution': 0.06574993806064333, 'Street': 3.611712114848442, 'School/instiution': 0.21733107605266835}\n",
      "{'NA': 0.017166239986276338, '2': 13.903682714922345, '1': 7.068280287179406, '5': 0.4434072177587227, '4': 4.193097035138367, '3': 7.021963828348509}\n"
     ]
    }
   ],
   "source": [
    "locations = [row[9] for row in data]\n",
    "educations = [row[10] for row in data]\n",
    "\n",
    "location_counts = {}\n",
    "for location in locations:\n",
    "    if location in location_counts:\n",
    "        location_counts[location] += 1\n",
    "    else:\n",
    "        location_counts[location] = 1\n",
    "\n",
    "location_per_hundredk = {}\n",
    "for location, counts in location_counts.items():\n",
    "    location_per_hundredk[location] = counts / 308745538 * 100000\n",
    "\n",
    "education_counts = {}\n",
    "for education in educations:\n",
    "    if education in education_counts:\n",
    "        education_counts[education] += 1\n",
    "    else:\n",
    "        education_counts[education] = 1\n",
    "\n",
    "education_per_hundredk = {}\n",
    "for education, counts in education_counts.items():\n",
    "    education_per_hundredk[education] = counts / 308745538 * 100000\n",
    "\n",
    "print(location_per_hundredk)\n",
    "print(education_per_hundredk)"
   ]
  },
  {
   "cell_type": "code",
   "execution_count": null,
   "metadata": {
    "collapsed": true
   },
   "outputs": [],
   "source": []
  }
 ],
 "metadata": {
  "kernelspec": {
   "display_name": "Python 3",
   "language": "python",
   "name": "python3"
  },
  "language_info": {
   "codemirror_mode": {
    "name": "ipython",
    "version": 3
   },
   "file_extension": ".py",
   "mimetype": "text/x-python",
   "name": "python",
   "nbconvert_exporter": "python",
   "pygments_lexer": "ipython3",
   "version": "3.4.3"
  }
 },
 "nbformat": 4,
 "nbformat_minor": 0
}
